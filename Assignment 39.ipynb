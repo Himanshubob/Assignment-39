{
 "cells": [
  {
   "cell_type": "markdown",
   "id": "e6d4a7b7",
   "metadata": {},
   "source": [
    " # Q1. Explain the concept of R-squared in linear regression models. How is it calculated, and what does it represent?"
   ]
  },
  {
   "cell_type": "markdown",
   "id": "b971007e",
   "metadata": {},
   "source": [
    "# ans...R-squared is find  the accurace of the model  and the r^2 is lie b/w the 0 to 1 \n",
    "# R^2= 1-SSesr/SStol\n",
    "# SSres= sum of resedula and SStol = sum of averge fit line error"
   ]
  },
  {
   "cell_type": "markdown",
   "id": "979dc3ae",
   "metadata": {},
   "source": [
    "# Q2. Define adjusted R-squared and explain how it differs from the regular R-squared."
   ]
  },
  {
   "cell_type": "markdown",
   "id": "2487a60e",
   "metadata": {},
   "source": [
    "# ans.. adjusted R-suared=1-(1-R^2)(N-1)/(N-p-1)\n",
    "\n",
    "# R^2 accourace of the  model \n",
    "# N=total data point in the data set \n",
    "# p= independent feature\n",
    "\n",
    "# R^2>>adj R^2"
   ]
  },
  {
   "cell_type": "markdown",
   "id": "25c5f1ee",
   "metadata": {},
   "source": [
    "# Q3. When is it more appropriate to use adjusted R-squared?"
   ]
  },
  {
   "cell_type": "markdown",
   "id": "34c563bc",
   "metadata": {},
   "source": [
    "# ans.. adj R^2 is is used  then the data have the many outlier   the data many outlier so best fit line not well so the accourace is not good  but you use the adj R^2 so the accurace is not more falchuwate  so  adj R^2 is better for R^2 "
   ]
  },
  {
   "cell_type": "markdown",
   "id": "1e5f875e",
   "metadata": {},
   "source": [
    "# Q4. What are RMSE, MSE, and MAE in the context of regression analysis? How are these metrics calculated, and what do they represent?"
   ]
  },
  {
   "cell_type": "markdown",
   "id": "ebadc921",
   "metadata": {},
   "source": [
    "# ans.. all are (RMSE,MSE,MAE) loss fuction is calutate the erroe of the fit line and the data point  \n",
    "# RMSE= 1/n((sum of (Yi-Y^i)^2)^1/2\n",
    "# Yi= data achully output \n",
    "# Y^i= predect output\n",
    "\n",
    "# MSE=1/n(sumof (Yi-Y^i)^2)\n",
    "# MAE 1/n(sum of |Yi-Y^i|\n",
    "\n"
   ]
  },
  {
   "cell_type": "markdown",
   "id": "728fe537",
   "metadata": {},
   "source": [
    "# Q5. Discuss the advantages and disadvantages of using RMSE, MSE, and MAE as evaluation metrics in regression analysis."
   ]
  },
  {
   "cell_type": "markdown",
   "id": "61ed200d",
   "metadata": {},
   "source": [
    "# ans .. RMSE= advantage :\n",
    "# 1. equation is differenceble \n",
    "# 2 .. it hase only one minimum\n",
    "# disadvantege :\n",
    "# 2.. not Robust to outlier\n",
    "  \n",
    "  \n",
    "  # MSE:\n",
    "  # equation is differenceble  \n",
    "  # it has only one local minimum\n",
    "  # Disadvantege \n",
    "  # ti is not the same unit \n",
    "  \n",
    "  # MAE :\n",
    " # advantege:\n",
    " # robust to outlier \n",
    " # it will in the same unit \n",
    " # dis :\n",
    " # covergece usually take to the more time \n",
    " \n",
    "  \n"
   ]
  },
  {
   "cell_type": "markdown",
   "id": "58d8c578",
   "metadata": {},
   "source": [
    "# Q6. Explain the concept of Lasso regularization. How does it differ from Ridge regularization, and when is it more appropriate to use?"
   ]
  },
  {
   "cell_type": "markdown",
   "id": "5fcec5fe",
   "metadata": {},
   "source": [
    "# Q7. How do regularized linear models help to prevent overfitting in machine learning? Provide an  example to illustrate."
   ]
  },
  {
   "cell_type": "markdown",
   "id": "573cead8",
   "metadata": {},
   "source": [
    "#  ans.. we have the data set the my model fite the same data point and the error rate is zero but  i  apply the other data point  the data point is outliertype so the model fit line is not the good worke   so the model is overfiting "
   ]
  },
  {
   "cell_type": "markdown",
   "id": "c604e331",
   "metadata": {},
   "source": [
    "# Q8. Discuss the limitations of regularized linear models and explain why they may not always be the best choice for regression analysis."
   ]
  },
  {
   "cell_type": "markdown",
   "id": "d364c7fa",
   "metadata": {},
   "source": [
    "#  there are more data point the given data have the outlier so  the model is not worke the better  and the data they have tha many type text so is not worke the regression "
   ]
  },
  {
   "cell_type": "markdown",
   "id": "c09ad911",
   "metadata": {},
   "source": [
    "# Q9. You are comparing the performance of two regression models using different evaluation metrics. Model A has an RMSE of 10, while Model B has an MAE of 8. Which model would you choose as the better performer, and why? Are there any limitations to your choice of metric?"
   ]
  },
  {
   "cell_type": "markdown",
   "id": "b2246764",
   "metadata": {},
   "source": [
    "# ans .. the model A is the error rate heigh so the model A is not better performance and the Model B error rate is lower so the model B is better performance  of model A "
   ]
  },
  {
   "cell_type": "markdown",
   "id": "65914edb",
   "metadata": {},
   "source": [
    "# Q10. You are comparing the performance of two regularized linear models using different types of regularization. Model A uses Ridge regularization with a regularization parameter of 0.1, while Model B uses Lasso regularization with a regularization parameter of 0.5. Which model would you choose as the better performer, and why? Are there any trade-offs or limitations to your choice of regularization method?"
   ]
  },
  {
   "cell_type": "markdown",
   "id": "bd44c397",
   "metadata": {},
   "source": [
    "#  ands .. the compering the two model the reeor rate of thr ridge model is .1  and the loss model is .5 so the ridge is better performance "
   ]
  },
  {
   "cell_type": "code",
   "execution_count": null,
   "id": "260a8c94",
   "metadata": {},
   "outputs": [],
   "source": []
  }
 ],
 "metadata": {
  "kernelspec": {
   "display_name": "Python 3 (ipykernel)",
   "language": "python",
   "name": "python3"
  },
  "language_info": {
   "codemirror_mode": {
    "name": "ipython",
    "version": 3
   },
   "file_extension": ".py",
   "mimetype": "text/x-python",
   "name": "python",
   "nbconvert_exporter": "python",
   "pygments_lexer": "ipython3",
   "version": "3.10.9"
  }
 },
 "nbformat": 4,
 "nbformat_minor": 5
}
